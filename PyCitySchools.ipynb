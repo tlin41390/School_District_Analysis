{
 "cells": [
  {
   "cell_type": "code",
   "execution_count": 1,
   "metadata": {},
   "outputs": [],
   "source": [
    "#Add the Pandas dependency\n",
    "import pandas as pd"
   ]
  },
  {
   "cell_type": "code",
   "execution_count": 2,
   "metadata": {},
   "outputs": [],
   "source": [
    "#Files to load\n",
    "schoolData = \"Resources/schools_complete.csv\"\n",
    "studentData = \"Resources/students_complete.csv\""
   ]
  },
  {
   "cell_type": "code",
   "execution_count": 3,
   "metadata": {},
   "outputs": [],
   "source": [
    "schoolDataDF = pd.read_csv(schoolData)\n",
    "studentDataDF = pd.read_csv(studentData)\n"
   ]
  },
  {
   "cell_type": "code",
   "execution_count": 4,
   "metadata": {},
   "outputs": [
    {
     "data": {
      "text/plain": [
       "Student ID       39170\n",
       "student_name     39170\n",
       "gender           39170\n",
       "grade            39170\n",
       "school_name      39170\n",
       "reading_score    39170\n",
       "math_score       39170\n",
       "dtype: int64"
      ]
     },
     "execution_count": 4,
     "metadata": {},
     "output_type": "execute_result"
    }
   ],
   "source": [
    "#Determine if there are any missing values inside the student data\n",
    "studentDataDF.isnull().sum()\n",
    "studentDataDF.notnull().sum()"
   ]
  },
  {
   "cell_type": "code",
   "execution_count": 5,
   "metadata": {},
   "outputs": [],
   "source": [
    "prefixes_suffixes = [\"Dr. \", \"Mr. \",\"Ms. \",\"Mrs. \",\"Miss \", \" MD\",\" DDS\",\" DVM\", \" PhD\"]\n",
    "\n",
    "for word in prefixes_suffixes:\n",
    "    studentDataDF[\"student_name\"] = studentDataDF[\"student_name\"].str.replace(word,\"\")"
   ]
  },
  {
   "cell_type": "code",
   "execution_count": 6,
   "metadata": {},
   "outputs": [],
   "source": [
    "completeSchoolData = pd.merge(studentDataDF,schoolDataDF, on=[\"school_name\",\"school_name\"])\n"
   ]
  },
  {
   "cell_type": "code",
   "execution_count": 7,
   "metadata": {},
   "outputs": [],
   "source": [
    "# Get the total number of students.\n",
    "studentCount = completeSchoolData[\"Student ID\"].count()\n",
    "\n"
   ]
  },
  {
   "cell_type": "code",
   "execution_count": 8,
   "metadata": {},
   "outputs": [],
   "source": [
    "schoolCount = schoolDataDF[\"school_name\"].count()\n"
   ]
  },
  {
   "cell_type": "code",
   "execution_count": 9,
   "metadata": {},
   "outputs": [],
   "source": [
    "#Calculate the number of schools\n",
    "schoolCount2 = completeSchoolData[\"school_name\"].unique()\n"
   ]
  },
  {
   "cell_type": "code",
   "execution_count": 10,
   "metadata": {},
   "outputs": [],
   "source": [
    "totalBudget = schoolDataDF[\"budget\"].sum()"
   ]
  },
  {
   "cell_type": "code",
   "execution_count": 11,
   "metadata": {},
   "outputs": [],
   "source": [
    "averageReadingScore = completeSchoolData[\"reading_score\"].mean()"
   ]
  },
  {
   "cell_type": "code",
   "execution_count": 12,
   "metadata": {},
   "outputs": [],
   "source": [
    "averageMathScore = completeSchoolData[\"math_score\"].mean()"
   ]
  },
  {
   "cell_type": "code",
   "execution_count": 13,
   "metadata": {},
   "outputs": [],
   "source": [
    "passingMathScore = completeSchoolData[\"math_score\"]>=70\n",
    "passingReadingScore = completeSchoolData[\"reading_score\"]>=70"
   ]
  },
  {
   "cell_type": "code",
   "execution_count": 14,
   "metadata": {},
   "outputs": [],
   "source": [
    "passingMath = completeSchoolData[completeSchoolData[\"math_score\"]>=70]"
   ]
  },
  {
   "cell_type": "code",
   "execution_count": 15,
   "metadata": {},
   "outputs": [],
   "source": [
    "passingReading = completeSchoolData[completeSchoolData[\"reading_score\"]>=70]"
   ]
  },
  {
   "cell_type": "code",
   "execution_count": 16,
   "metadata": {},
   "outputs": [],
   "source": [
    "mathCount = passingMath[\"student_name\"].count()\n",
    "readingCount = passingReading[\"student_name\"].count()"
   ]
  },
  {
   "cell_type": "code",
   "execution_count": 17,
   "metadata": {},
   "outputs": [],
   "source": [
    "passingMath = passingMath[\"student_name\"].count()/float(studentCount)*100\n",
    "passingReading= passingReading[\"student_name\"].count()/float(studentCount)*100"
   ]
  },
  {
   "cell_type": "code",
   "execution_count": 18,
   "metadata": {},
   "outputs": [],
   "source": [
    "totalPassingPercent = completeSchoolData[(completeSchoolData[\"math_score\"]>=70)&(completeSchoolData[\"reading_score\"]>=70)]"
   ]
  },
  {
   "cell_type": "code",
   "execution_count": 19,
   "metadata": {},
   "outputs": [
    {
     "data": {
      "text/plain": [
       "25528"
      ]
     },
     "execution_count": 19,
     "metadata": {},
     "output_type": "execute_result"
    }
   ],
   "source": [
    "totalPassingPercent[\"student_name\"].count()"
   ]
  },
  {
   "cell_type": "code",
   "execution_count": 20,
   "metadata": {},
   "outputs": [],
   "source": [
    "totalPassingCount=totalPassingPercent[\"student_name\"].count()"
   ]
  },
  {
   "cell_type": "code",
   "execution_count": 21,
   "metadata": {},
   "outputs": [],
   "source": [
    "totalPercentage = totalPassingPercent[\"student_name\"].count()/float(studentCount)*100"
   ]
  },
  {
   "cell_type": "code",
   "execution_count": 22,
   "metadata": {},
   "outputs": [],
   "source": [
    "districtSummary = pd.DataFrame([{\"Total Schools\":schoolCount,\"Total Students\":studentCount,\"Total Budget\":totalBudget,\n",
    "                                \"Average Reading Score\":averageReadingScore,\"Average Math Score\":averageMathScore,\n",
    "                                 \"%Passing Reading\":passingReading,\"%Passing Math\":passingMath,\n",
    "                                \"OverallPassing%\":totalPercentage}])"
   ]
  },
  {
   "cell_type": "code",
   "execution_count": 23,
   "metadata": {},
   "outputs": [],
   "source": [
    "def passingMathPercent(passingStudents,totalStudents):\n",
    "    return passingStudents/float(totalStudents)*100"
   ]
  },
  {
   "cell_type": "code",
   "execution_count": 24,
   "metadata": {},
   "outputs": [
    {
     "data": {
      "text/plain": [
       "74.9808526933878"
      ]
     },
     "execution_count": 24,
     "metadata": {},
     "output_type": "execute_result"
    }
   ],
   "source": [
    "passingMathCount = 29370\n",
    "totalStudentCount = 39170\n",
    "passingMathPercent(passingMathCount,totalStudentCount)"
   ]
  },
  {
   "cell_type": "code",
   "execution_count": 25,
   "metadata": {},
   "outputs": [],
   "source": [
    "districtSummary[\"Total Students\"]=districtSummary[\"Total Students\"].map(\"{:,}\".format)"
   ]
  },
  {
   "cell_type": "code",
   "execution_count": 26,
   "metadata": {},
   "outputs": [],
   "source": [
    "districtSummary[\"Total Budget\"] = districtSummary[\"Total Budget\"].map(\"${:,.2f}\".format)\n"
   ]
  },
  {
   "cell_type": "code",
   "execution_count": 27,
   "metadata": {},
   "outputs": [],
   "source": [
    "districtSummary[\"Average Reading Score\"] = districtSummary[\"Average Reading Score\"].map(\"{:,.1f}\".format)\n",
    "districtSummary[\"Average Math Score\"] = districtSummary[\"Average Math Score\"].map(\"{:,.1f}\".format)\n",
    "districtSummary[\"%Passing Math\"] = districtSummary[\"%Passing Math\"].map(\"%{:,.0f}\".format)\n",
    "districtSummary[\"%Passing Reading\"] = districtSummary[\"%Passing Reading\"].map(\"%{:,.0f}\".format)\n",
    "districtSummary[\"OverallPassing%\"] = districtSummary[\"OverallPassing%\"].map(\"%{:,.0f}\".format)"
   ]
  },
  {
   "cell_type": "code",
   "execution_count": 28,
   "metadata": {},
   "outputs": [],
   "source": [
    "newColumnOrder = [\"Total Schools\",\"Total Students\",\"Total Budget\",\"Average Math Score\",\"%Passing Reading\",\"%Passing Math\",\"OverallPassing%\"]\n",
    "districtSummary = districtSummary[newColumnOrder]"
   ]
  },
  {
   "cell_type": "code",
   "execution_count": 29,
   "metadata": {},
   "outputs": [],
   "source": [
    "perSchoolTypes = schoolDataDF.set_index([\"school_name\"])[\"type\"]"
   ]
  },
  {
   "cell_type": "code",
   "execution_count": 30,
   "metadata": {},
   "outputs": [],
   "source": [
    "df = pd.DataFrame(perSchoolTypes)"
   ]
  },
  {
   "cell_type": "code",
   "execution_count": 31,
   "metadata": {},
   "outputs": [],
   "source": [
    "perSchoolCount = completeSchoolData[\"school_name\"].value_counts()"
   ]
  },
  {
   "cell_type": "code",
   "execution_count": 32,
   "metadata": {},
   "outputs": [],
   "source": [
    "perSchoolBudget = schoolDataDF.set_index([\"school_name\"])[\"budget\"]"
   ]
  },
  {
   "cell_type": "code",
   "execution_count": 33,
   "metadata": {},
   "outputs": [],
   "source": [
    "perSchoolCapita = perSchoolBudget/perSchoolCount"
   ]
  },
  {
   "cell_type": "code",
   "execution_count": 34,
   "metadata": {},
   "outputs": [],
   "source": [
    "studentSchoolMath = studentDataDF.set_index([\"school_name\"])[\"math_score\"]"
   ]
  },
  {
   "cell_type": "code",
   "execution_count": 35,
   "metadata": {},
   "outputs": [],
   "source": [
    "perSchoolPassingMath= completeSchoolData[(completeSchoolData[\"math_score\"]>=70)]\n",
    "perSchoolPassingReading = completeSchoolData[(completeSchoolData[\"reading_score\"]>=70)]"
   ]
  },
  {
   "cell_type": "code",
   "execution_count": 36,
   "metadata": {},
   "outputs": [],
   "source": [
    "perSchoolPassingMath = perSchoolPassingMath.groupby([\"school_name\"]).count()[\"student_name\"]\n",
    "perSchoolPassingReading = perSchoolPassingReading.groupby([\"school_name\"]).count()[\"student_name\"]"
   ]
  },
  {
   "cell_type": "code",
   "execution_count": 37,
   "metadata": {},
   "outputs": [],
   "source": [
    "percentageMath = perSchoolPassingMath/perSchoolCount*100\n",
    "percentageEnglish = perSchoolPassingReading/perSchoolCount*100\n"
   ]
  },
  {
   "cell_type": "code",
   "execution_count": 38,
   "metadata": {},
   "outputs": [],
   "source": [
    "perPassingMathReading = completeSchoolData[(completeSchoolData[\"math_score\"]>=70)&(completeSchoolData[\"reading_score\"]>=70)]\n"
   ]
  },
  {
   "cell_type": "code",
   "execution_count": 39,
   "metadata": {},
   "outputs": [],
   "source": [
    "perPassingMathReading = perPassingMathReading.groupby([\"school_name\"]).count()[\"student_name\"]\n"
   ]
  },
  {
   "cell_type": "code",
   "execution_count": 40,
   "metadata": {},
   "outputs": [],
   "source": [
    "perOverallPassingPercentage =perPassingMathReading/perSchoolCount*100\n"
   ]
  },
  {
   "cell_type": "code",
   "execution_count": 41,
   "metadata": {},
   "outputs": [],
   "source": [
    "perSchoolSummary = pd.DataFrame({\"SchoolType\":perSchoolTypes,\"Total Students\": perSchoolCount,\n",
    "                                  \"Total School Budget\": perSchoolBudget,\"Per Student Budget\": perSchoolCapita,\n",
    "                                 \"Average Math Score\":averageMathScore,\"Average Reading Score\":averageReadingScore\n",
    "                                 ,\"% Passing Math\":percentageMath,\"% Passing Reading\":percentageEnglish,\n",
    "                                  \"% Overall Passing\":perOverallPassingPercentage})"
   ]
  },
  {
   "cell_type": "code",
   "execution_count": 42,
   "metadata": {},
   "outputs": [],
   "source": [
    "perSchoolSummary[\"Total School Budget\"] = perSchoolSummary[\"Total School Budget\"].map(\"${:,.2f}\".format)\n",
    "perSchoolSummary[\"Per Student Budget\"] = perSchoolSummary[\"Per Student Budget\"] = perSchoolSummary[\"Per Student Budget\"].map(\"${:,.2f}\".format)\n"
   ]
  },
  {
   "cell_type": "code",
   "execution_count": 43,
   "metadata": {},
   "outputs": [],
   "source": [
    "topSchools = perSchoolSummary.sort_values([\"% Overall Passing\"], ascending = False)"
   ]
  },
  {
   "cell_type": "code",
   "execution_count": 44,
   "metadata": {},
   "outputs": [],
   "source": [
    "lowestSchools = perSchoolSummary.sort_values([\"% Overall Passing\"], ascending = True)"
   ]
  },
  {
   "cell_type": "code",
   "execution_count": 45,
   "metadata": {},
   "outputs": [],
   "source": [
    "ninthGraders = completeSchoolData[(completeSchoolData[\"grade\"]==\"9th\")]\n",
    "tenthGraders = completeSchoolData[(completeSchoolData[\"grade\"]==\"10th\")]\n",
    "eleventhGraders = completeSchoolData[(completeSchoolData[\"grade\"]==\"11th\")]\n",
    "twelfthGraders = completeSchoolData[(completeSchoolData[\"grade\"]==\"12th\")]"
   ]
  },
  {
   "cell_type": "code",
   "execution_count": 46,
   "metadata": {},
   "outputs": [],
   "source": [
    "ninthGradeMathScores=ninthGraders.groupby([\"school_name\"]).mean()[\"math_score\"]\n",
    "tenthGradeMathScores=tenthGraders.groupby([\"school_name\"]).mean()[\"math_score\"]\n",
    "eleventhGradeMathScores=eleventhGraders.groupby([\"school_name\"]).mean()[\"math_score\"]\n",
    "twelfthGradeMathScores=twelfthGraders.groupby([\"school_name\"]).mean()[\"math_score\"]"
   ]
  },
  {
   "cell_type": "code",
   "execution_count": 47,
   "metadata": {},
   "outputs": [],
   "source": [
    "ninthGradeReadingScores = ninthGraders.groupby([\"school_name\"]).mean()[\"reading_score\"]\n",
    "tenthGradeReadingScores=tenthGraders.groupby([\"school_name\"]).mean()[\"reading_score\"]\n",
    "eleventhGradeReadingScores = eleventhGraders.groupby([\"school_name\"]).mean()[\"reading_score\"]\n",
    "twelfthGradeReadingScores = twelfthGraders.groupby([\"school_name\"]).mean()[\"reading_score\"]"
   ]
  },
  {
   "cell_type": "code",
   "execution_count": 48,
   "metadata": {},
   "outputs": [],
   "source": [
    "mathScoresByGrade = pd.DataFrame({\"9th\":ninthGradeMathScores,\n",
    "                                 \"10th\":tenthGradeMathScores,\n",
    "                                 \"11th\":eleventhGradeMathScores,\n",
    "                                 \"12th\":twelfthGradeMathScores})\n"
   ]
  },
  {
   "cell_type": "code",
   "execution_count": 49,
   "metadata": {},
   "outputs": [],
   "source": [
    "readingScoresByGrade = pd.DataFrame({\"9th\":ninthGradeReadingScores,\n",
    "                                    \"10th\":tenthGradeReadingScores,\n",
    "                                    \"11th\":eleventhGradeReadingScores,\n",
    "                                    \"12th\":twelfthGradeReadingScores})\n"
   ]
  },
  {
   "cell_type": "code",
   "execution_count": 50,
   "metadata": {},
   "outputs": [
    {
     "data": {
      "text/html": [
       "<div>\n",
       "<style scoped>\n",
       "    .dataframe tbody tr th:only-of-type {\n",
       "        vertical-align: middle;\n",
       "    }\n",
       "\n",
       "    .dataframe tbody tr th {\n",
       "        vertical-align: top;\n",
       "    }\n",
       "\n",
       "    .dataframe thead th {\n",
       "        text-align: right;\n",
       "    }\n",
       "</style>\n",
       "<table border=\"1\" class=\"dataframe\">\n",
       "  <thead>\n",
       "    <tr style=\"text-align: right;\">\n",
       "      <th></th>\n",
       "      <th>9th</th>\n",
       "      <th>10th</th>\n",
       "      <th>11th</th>\n",
       "      <th>12th</th>\n",
       "    </tr>\n",
       "  </thead>\n",
       "  <tbody>\n",
       "    <tr>\n",
       "      <td>Bailey High School</td>\n",
       "      <td>77.1</td>\n",
       "      <td>77.0</td>\n",
       "      <td>77.5</td>\n",
       "      <td>76.5</td>\n",
       "    </tr>\n",
       "    <tr>\n",
       "      <td>Cabrera High School</td>\n",
       "      <td>83.1</td>\n",
       "      <td>83.2</td>\n",
       "      <td>82.8</td>\n",
       "      <td>83.3</td>\n",
       "    </tr>\n",
       "    <tr>\n",
       "      <td>Figueroa High School</td>\n",
       "      <td>76.4</td>\n",
       "      <td>76.5</td>\n",
       "      <td>76.9</td>\n",
       "      <td>77.2</td>\n",
       "    </tr>\n",
       "    <tr>\n",
       "      <td>Ford High School</td>\n",
       "      <td>77.4</td>\n",
       "      <td>77.7</td>\n",
       "      <td>76.9</td>\n",
       "      <td>76.2</td>\n",
       "    </tr>\n",
       "    <tr>\n",
       "      <td>Griffin High School</td>\n",
       "      <td>82.0</td>\n",
       "      <td>84.2</td>\n",
       "      <td>83.8</td>\n",
       "      <td>83.4</td>\n",
       "    </tr>\n",
       "  </tbody>\n",
       "</table>\n",
       "</div>"
      ],
      "text/plain": [
       "                       9th  10th  11th  12th\n",
       "Bailey High School    77.1  77.0  77.5  76.5\n",
       "Cabrera High School   83.1  83.2  82.8  83.3\n",
       "Figueroa High School  76.4  76.5  76.9  77.2\n",
       "Ford High School      77.4  77.7  76.9  76.2\n",
       "Griffin High School   82.0  84.2  83.8  83.4"
      ]
     },
     "execution_count": 50,
     "metadata": {},
     "output_type": "execute_result"
    }
   ],
   "source": [
    "mathScoresByGrade[\"9th\"] = mathScoresByGrade[\"9th\"].map(\"{:,.1f}\".format)\n",
    "mathScoresByGrade[\"10th\"] = mathScoresByGrade[\"10th\"].map(\"{:,.1f}\".format)\n",
    "mathScoresByGrade[\"11th\"] = mathScoresByGrade[\"11th\"].map(\"{:,.1f}\".format)\n",
    "mathScoresByGrade[\"12th\"] = mathScoresByGrade[\"12th\"].map(\"{:,.1f}\".format)\n",
    "\n",
    "mathScoresByGrade.index.name = None\n",
    "mathScoresByGrade.head()"
   ]
  },
  {
   "cell_type": "code",
   "execution_count": null,
   "metadata": {},
   "outputs": [],
   "source": [
    "readingScoresByGrade[\"9th\"]=readingScoresByGrade[\"9th\"].map(\"{:,.1f}\".format)\n",
    "readingScoresByGrade[\"10th\"]=readingScoresByGrade[\"10th\"].map(\"{:,.1f}\".format)\n",
    "readingScoresByGrade[\"11th\"]=readingScoresByGrade[\"11th\"].map(\"{:,.1f}\".format)\n",
    "readingScoresByGrade[\"12th\"]=readingScoresByGrade[\"12th\"].map(\"{:,.1f}\".format)"
   ]
  }
 ],
 "metadata": {
  "kernelspec": {
   "display_name": "Python 3",
   "language": "python",
   "name": "python3"
  },
  "language_info": {
   "codemirror_mode": {
    "name": "ipython",
    "version": 3
   },
   "file_extension": ".py",
   "mimetype": "text/x-python",
   "name": "python",
   "nbconvert_exporter": "python",
   "pygments_lexer": "ipython3",
   "version": "3.7.4"
  }
 },
 "nbformat": 4,
 "nbformat_minor": 2
}
