{
 "cells": [
  {
   "cell_type": "code",
   "execution_count": 1,
   "metadata": {},
   "outputs": [],
   "source": [
    "#Add the Pandas dependency\n",
    "import pandas as pd"
   ]
  },
  {
   "cell_type": "code",
   "execution_count": 2,
   "metadata": {},
   "outputs": [],
   "source": [
    "#Files to load\n",
    "schoolData = \"Resources/schools_complete.csv\"\n",
    "studentData = \"Resources/students_complete.csv\""
   ]
  },
  {
   "cell_type": "code",
   "execution_count": 3,
   "metadata": {},
   "outputs": [],
   "source": [
    "schoolDataDF = pd.read_csv(schoolData)\n",
    "studentDataDF = pd.read_csv(studentData)\n"
   ]
  },
  {
   "cell_type": "code",
   "execution_count": 4,
   "metadata": {},
   "outputs": [
    {
     "data": {
      "text/plain": [
       "Student ID       39170\n",
       "student_name     39170\n",
       "gender           39170\n",
       "grade            39170\n",
       "school_name      39170\n",
       "reading_score    39170\n",
       "math_score       39170\n",
       "dtype: int64"
      ]
     },
     "execution_count": 4,
     "metadata": {},
     "output_type": "execute_result"
    }
   ],
   "source": [
    "#Determine if there are any missing values inside the student data\n",
    "studentDataDF.isnull().sum()\n",
    "studentDataDF.notnull().sum()"
   ]
  },
  {
   "cell_type": "code",
   "execution_count": 5,
   "metadata": {},
   "outputs": [],
   "source": [
    "prefixes_suffixes = [\"Dr. \", \"Mr. \",\"Ms. \",\"Mrs. \",\"Miss \", \" MD\",\" DDS\",\" DVM\", \" PhD\"]\n",
    "\n",
    "for word in prefixes_suffixes:\n",
    "    studentDataDF[\"student_name\"] = studentDataDF[\"student_name\"].str.replace(word,\"\")"
   ]
  },
  {
   "cell_type": "code",
   "execution_count": 6,
   "metadata": {},
   "outputs": [],
   "source": [
    "completeSchoolData = pd.merge(studentDataDF,schoolDataDF, on=[\"school_name\",\"school_name\"])\n"
   ]
  },
  {
   "cell_type": "code",
   "execution_count": 7,
   "metadata": {},
   "outputs": [],
   "source": [
    "# Get the total number of students.\n",
    "studentCount = completeSchoolData[\"Student ID\"].count()\n",
    "\n"
   ]
  },
  {
   "cell_type": "code",
   "execution_count": 8,
   "metadata": {},
   "outputs": [],
   "source": [
    "schoolCount = schoolDataDF[\"school_name\"].count()\n"
   ]
  },
  {
   "cell_type": "code",
   "execution_count": 9,
   "metadata": {},
   "outputs": [],
   "source": [
    "#Calculate the number of schools\n",
    "schoolCount2 = completeSchoolData[\"school_name\"].unique()\n"
   ]
  },
  {
   "cell_type": "code",
   "execution_count": 10,
   "metadata": {},
   "outputs": [],
   "source": [
    "totalBudget = schoolDataDF[\"budget\"].sum()"
   ]
  },
  {
   "cell_type": "code",
   "execution_count": 11,
   "metadata": {},
   "outputs": [],
   "source": [
    "averageReadingScore = completeSchoolData[\"reading_score\"].mean()"
   ]
  },
  {
   "cell_type": "code",
   "execution_count": 12,
   "metadata": {},
   "outputs": [],
   "source": [
    "averageMathScore = completeSchoolData[\"math_score\"].mean()"
   ]
  },
  {
   "cell_type": "code",
   "execution_count": 13,
   "metadata": {},
   "outputs": [],
   "source": [
    "passingMathScore = completeSchoolData[\"math_score\"]>=70\n",
    "passingReadingScore = completeSchoolData[\"reading_score\"]>=70"
   ]
  },
  {
   "cell_type": "code",
   "execution_count": 14,
   "metadata": {},
   "outputs": [],
   "source": [
    "passingMath = completeSchoolData[completeSchoolData[\"math_score\"]>=70]"
   ]
  },
  {
   "cell_type": "code",
   "execution_count": 15,
   "metadata": {},
   "outputs": [],
   "source": [
    "passingReading = completeSchoolData[completeSchoolData[\"reading_score\"]>=70]"
   ]
  },
  {
   "cell_type": "code",
   "execution_count": 16,
   "metadata": {},
   "outputs": [],
   "source": [
    "mathCount = passingMath[\"student_name\"].count()\n",
    "readingCount = passingReading[\"student_name\"].count()"
   ]
  },
  {
   "cell_type": "code",
   "execution_count": 17,
   "metadata": {},
   "outputs": [],
   "source": [
    "passingMath = passingMath[\"student_name\"].count()/float(studentCount)*100\n",
    "passingReading= passingReading[\"student_name\"].count()/float(studentCount)*100"
   ]
  },
  {
   "cell_type": "code",
   "execution_count": 18,
   "metadata": {},
   "outputs": [],
   "source": [
    "totalPassingPercent = completeSchoolData[(completeSchoolData[\"math_score\"]>=70)&(completeSchoolData[\"reading_score\"]>=70)]"
   ]
  },
  {
   "cell_type": "code",
   "execution_count": 19,
   "metadata": {},
   "outputs": [
    {
     "data": {
      "text/plain": [
       "25528"
      ]
     },
     "execution_count": 19,
     "metadata": {},
     "output_type": "execute_result"
    }
   ],
   "source": [
    "totalPassingPercent[\"student_name\"].count()"
   ]
  },
  {
   "cell_type": "code",
   "execution_count": 20,
   "metadata": {},
   "outputs": [],
   "source": [
    "totalPassingCount=totalPassingPercent[\"student_name\"].count()"
   ]
  },
  {
   "cell_type": "code",
   "execution_count": 21,
   "metadata": {},
   "outputs": [],
   "source": [
    "totalPercentage = totalPassingPercent[\"student_name\"].count()/float(studentCount)*100"
   ]
  },
  {
   "cell_type": "code",
   "execution_count": 22,
   "metadata": {},
   "outputs": [],
   "source": [
    "districtSummary = pd.DataFrame([{\"Total Schools\":schoolCount,\"Total Students\":studentCount,\"Total Budget\":totalBudget,\n",
    "                                \"Average Reading Score\":averageReadingScore,\"Average Math Score\":averageMathScore,\n",
    "                                 \"%Passing Reading\":passingReading,\"%Passing Math\":passingMath,\n",
    "                                \"OverallPassing%\":totalPercentage}])"
   ]
  },
  {
   "cell_type": "code",
   "execution_count": 23,
   "metadata": {},
   "outputs": [],
   "source": [
    "def passingMathPercent(passingStudents,totalStudents):\n",
    "    return passingStudents/float(totalStudents)*100"
   ]
  },
  {
   "cell_type": "code",
   "execution_count": 24,
   "metadata": {},
   "outputs": [
    {
     "data": {
      "text/plain": [
       "74.9808526933878"
      ]
     },
     "execution_count": 24,
     "metadata": {},
     "output_type": "execute_result"
    }
   ],
   "source": [
    "passingMathCount = 29370\n",
    "totalStudentCount = 39170\n",
    "passingMathPercent(passingMathCount,totalStudentCount)"
   ]
  },
  {
   "cell_type": "code",
   "execution_count": 25,
   "metadata": {},
   "outputs": [],
   "source": [
    "districtSummary[\"Total Students\"]=districtSummary[\"Total Students\"].map(\"{:,}\".format)"
   ]
  },
  {
   "cell_type": "code",
   "execution_count": 26,
   "metadata": {},
   "outputs": [],
   "source": [
    "districtSummary[\"Total Budget\"] = districtSummary[\"Total Budget\"].map(\"${:,.2f}\".format)\n"
   ]
  },
  {
   "cell_type": "code",
   "execution_count": 27,
   "metadata": {},
   "outputs": [],
   "source": [
    "districtSummary[\"Average Reading Score\"] = districtSummary[\"Average Reading Score\"].map(\"{:,.1f}\".format)\n",
    "districtSummary[\"Average Math Score\"] = districtSummary[\"Average Math Score\"].map(\"{:,.1f}\".format)\n",
    "districtSummary[\"%Passing Math\"] = districtSummary[\"%Passing Math\"].map(\"%{:,.0f}\".format)\n",
    "districtSummary[\"%Passing Reading\"] = districtSummary[\"%Passing Reading\"].map(\"%{:,.0f}\".format)\n",
    "districtSummary[\"OverallPassing%\"] = districtSummary[\"OverallPassing%\"].map(\"%{:,.0f}\".format)"
   ]
  },
  {
   "cell_type": "code",
   "execution_count": 28,
   "metadata": {},
   "outputs": [],
   "source": [
    "newColumnOrder = [\"Total Schools\",\"Total Students\",\"Total Budget\",\"Average Math Score\",\"%Passing Reading\",\"%Passing Math\",\"OverallPassing%\"]\n",
    "districtSummary = districtSummary[newColumnOrder]"
   ]
  },
  {
   "cell_type": "code",
   "execution_count": 29,
   "metadata": {},
   "outputs": [],
   "source": [
    "perSchoolTypes = schoolDataDF.set_index([\"school_name\"])[\"type\"]"
   ]
  },
  {
   "cell_type": "code",
   "execution_count": 30,
   "metadata": {},
   "outputs": [],
   "source": [
    "df = pd.DataFrame(perSchoolTypes)"
   ]
  },
  {
   "cell_type": "code",
   "execution_count": 31,
   "metadata": {},
   "outputs": [],
   "source": [
    "perSchoolCount = completeSchoolData[\"school_name\"].value_counts()"
   ]
  },
  {
   "cell_type": "code",
   "execution_count": 32,
   "metadata": {},
   "outputs": [],
   "source": [
    "perSchoolBudget = schoolDataDF.set_index([\"school_name\"])[\"budget\"]"
   ]
  },
  {
   "cell_type": "code",
   "execution_count": 33,
   "metadata": {},
   "outputs": [],
   "source": [
    "perSchoolCapita = perSchoolBudget/perSchoolCount"
   ]
  },
  {
   "cell_type": "code",
   "execution_count": 34,
   "metadata": {},
   "outputs": [],
   "source": [
    "studentSchoolMath = studentDataDF.set_index([\"school_name\"])[\"math_score\"]"
   ]
  },
  {
   "cell_type": "code",
   "execution_count": 35,
   "metadata": {},
   "outputs": [],
   "source": [
    "perSchoolPassingMath= completeSchoolData[(completeSchoolData[\"math_score\"]>=70)]\n",
    "perSchoolPassingReading = completeSchoolData[(completeSchoolData[\"reading_score\"]>=70)]"
   ]
  },
  {
   "cell_type": "code",
   "execution_count": 36,
   "metadata": {},
   "outputs": [],
   "source": [
    "perSchoolPassingMath = perSchoolPassingMath.groupby([\"school_name\"]).count()[\"student_name\"]\n",
    "perSchoolPassingReading = perSchoolPassingReading.groupby([\"school_name\"]).count()[\"student_name\"]"
   ]
  },
  {
   "cell_type": "code",
   "execution_count": 37,
   "metadata": {},
   "outputs": [],
   "source": [
    "percentageMath = perSchoolPassingMath/perSchoolCount*100\n",
    "percentageEnglish = perSchoolPassingReading/perSchoolCount*100\n"
   ]
  },
  {
   "cell_type": "code",
   "execution_count": 38,
   "metadata": {},
   "outputs": [],
   "source": [
    "perPassingMathReading = completeSchoolData[(completeSchoolData[\"math_score\"]>=70)&(completeSchoolData[\"reading_score\"]>=70)]\n"
   ]
  },
  {
   "cell_type": "code",
   "execution_count": 39,
   "metadata": {},
   "outputs": [],
   "source": [
    "perPassingMathReading = perPassingMathReading.groupby([\"school_name\"]).count()[\"student_name\"]\n"
   ]
  },
  {
   "cell_type": "code",
   "execution_count": 40,
   "metadata": {},
   "outputs": [],
   "source": [
    "perOverallPassingPercentage =perPassingMathReading/perSchoolCount*100\n"
   ]
  },
  {
   "cell_type": "code",
   "execution_count": 41,
   "metadata": {},
   "outputs": [],
   "source": [
    "perSchoolSummary = pd.DataFrame({\"SchoolType\":perSchoolTypes,\"Total Students\": perSchoolCount,\n",
    "                                  \"Total School Budget\": perSchoolBudget,\"Per Student Budget\": perSchoolCapita,\n",
    "                                 \"Average Math Score\":averageMathScore,\"Average Reading Score\":averageReadingScore\n",
    "                                 ,\"% Passing Math\":percentageMath,\"% Passing Reading\":percentageEnglish,\n",
    "                                  \"% Overall Passing\":perOverallPassingPercentage})"
   ]
  },
  {
   "cell_type": "code",
   "execution_count": 42,
   "metadata": {},
   "outputs": [],
   "source": [
    "perSchoolSummary[\"Total School Budget\"] = perSchoolSummary[\"Total School Budget\"].map(\"${:,.2f}\".format)\n",
    "perSchoolSummary[\"Per Student Budget\"] = perSchoolSummary[\"Per Student Budget\"] = perSchoolSummary[\"Per Student Budget\"].map(\"${:,.2f}\".format)\n"
   ]
  },
  {
   "cell_type": "code",
   "execution_count": 43,
   "metadata": {},
   "outputs": [],
   "source": [
    "topSchools = perSchoolSummary.sort_values([\"% Overall Passing\"], ascending = False)"
   ]
  },
  {
   "cell_type": "code",
   "execution_count": 46,
   "metadata": {},
   "outputs": [],
   "source": [
    "lowestSchools = perSchoolSummary.sort_values([\"% Overall Passing\"], ascending = True)"
   ]
  },
  {
   "cell_type": "code",
   "execution_count": null,
   "metadata": {},
   "outputs": [],
   "source": []
  }
 ],
 "metadata": {
  "kernelspec": {
   "display_name": "Python 3",
   "language": "python",
   "name": "python3"
  },
  "language_info": {
   "codemirror_mode": {
    "name": "ipython",
    "version": 3
   },
   "file_extension": ".py",
   "mimetype": "text/x-python",
   "name": "python",
   "nbconvert_exporter": "python",
   "pygments_lexer": "ipython3",
   "version": "3.7.4"
  }
 },
 "nbformat": 4,
 "nbformat_minor": 2
}
