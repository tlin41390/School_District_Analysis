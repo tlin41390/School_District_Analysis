{
 "cells": [
  {
   "cell_type": "code",
   "execution_count": 1,
   "metadata": {},
   "outputs": [],
   "source": [
    "#Add the Pandas dependency\n",
    "import pandas as pd"
   ]
  },
  {
   "cell_type": "code",
   "execution_count": 2,
   "metadata": {},
   "outputs": [],
   "source": [
    "#Files to load\n",
    "schoolData = \"Resources/schools_complete.csv\"\n",
    "studentData = \"Resources/students_complete.csv\""
   ]
  },
  {
   "cell_type": "code",
   "execution_count": 3,
   "metadata": {},
   "outputs": [],
   "source": [
    "schoolDataDF = pd.read_csv(schoolData)\n",
    "studentDataDF = pd.read_csv(studentData)\n"
   ]
  },
  {
   "cell_type": "code",
   "execution_count": 4,
   "metadata": {},
   "outputs": [
    {
     "data": {
      "text/plain": [
       "Student ID       39170\n",
       "student_name     39170\n",
       "gender           39170\n",
       "grade            39170\n",
       "school_name      39170\n",
       "reading_score    39170\n",
       "math_score       39170\n",
       "dtype: int64"
      ]
     },
     "execution_count": 4,
     "metadata": {},
     "output_type": "execute_result"
    }
   ],
   "source": [
    "#Determine if there are any missing values inside the student data\n",
    "studentDataDF.isnull().sum()\n",
    "studentDataDF.notnull().sum()"
   ]
  },
  {
   "cell_type": "code",
   "execution_count": 5,
   "metadata": {},
   "outputs": [],
   "source": [
    "prefixes_suffixes = [\"Dr. \", \"Mr. \",\"Ms. \",\"Mrs. \",\"Miss \", \" MD\",\" DDS\",\" DVM\", \" PhD\"]\n",
    "\n",
    "for word in prefixes_suffixes:\n",
    "    studentDataDF[\"student_name\"] = studentDataDF[\"student_name\"].str.replace(word,\"\")"
   ]
  },
  {
   "cell_type": "code",
   "execution_count": 6,
   "metadata": {},
   "outputs": [],
   "source": [
    "completeSchoolData = pd.merge(studentDataDF,schoolDataDF, on=[\"school_name\",\"school_name\"])\n"
   ]
  },
  {
   "cell_type": "code",
   "execution_count": 7,
   "metadata": {},
   "outputs": [],
   "source": [
    "# Get the total number of students.\n",
    "studentCount = completeSchoolData[\"Student ID\"].count()\n",
    "\n"
   ]
  },
  {
   "cell_type": "code",
   "execution_count": 8,
   "metadata": {},
   "outputs": [],
   "source": [
    "schoolCount = schoolDataDF[\"school_name\"].count()\n"
   ]
  },
  {
   "cell_type": "code",
   "execution_count": 9,
   "metadata": {},
   "outputs": [],
   "source": [
    "#Calculate the number of schools\n",
    "schoolCount2 = completeSchoolData[\"school_name\"].unique()\n"
   ]
  },
  {
   "cell_type": "code",
   "execution_count": 10,
   "metadata": {},
   "outputs": [],
   "source": [
    "totalBudget = schoolDataDF[\"budget\"].sum()"
   ]
  },
  {
   "cell_type": "code",
   "execution_count": 57,
   "metadata": {},
   "outputs": [
    {
     "data": {
      "text/plain": [
       "81.87784018381414"
      ]
     },
     "execution_count": 57,
     "metadata": {},
     "output_type": "execute_result"
    }
   ],
   "source": [
    "averageReadingScore = completeSchoolData[\"reading_score\"].mean()"
   ]
  },
  {
   "cell_type": "code",
   "execution_count": 12,
   "metadata": {},
   "outputs": [],
   "source": [
    "averageMathScore = completeSchoolData[\"math_score\"].mean()"
   ]
  },
  {
   "cell_type": "code",
   "execution_count": 13,
   "metadata": {},
   "outputs": [],
   "source": [
    "passingMathScore = completeSchoolData[\"math_score\"]>=70\n",
    "passingReadingScore = completeSchoolData[\"reading_score\"]>=70"
   ]
  },
  {
   "cell_type": "code",
   "execution_count": 14,
   "metadata": {},
   "outputs": [],
   "source": [
    "passingMath = completeSchoolData[completeSchoolData[\"math_score\"]>=70]"
   ]
  },
  {
   "cell_type": "code",
   "execution_count": 15,
   "metadata": {},
   "outputs": [],
   "source": [
    "passingReading = completeSchoolData[completeSchoolData[\"reading_score\"]>=70]"
   ]
  },
  {
   "cell_type": "code",
   "execution_count": 16,
   "metadata": {},
   "outputs": [],
   "source": [
    "mathCount = passingMath[\"student_name\"].count()\n",
    "readingCount = passingReading[\"student_name\"].count()"
   ]
  },
  {
   "cell_type": "code",
   "execution_count": 17,
   "metadata": {},
   "outputs": [],
   "source": [
    "passingMath = passingMath[\"student_name\"].count()/float(studentCount)*100\n",
    "passingReading= passingReading[\"student_name\"].count()/float(studentCount)*100"
   ]
  },
  {
   "cell_type": "code",
   "execution_count": 18,
   "metadata": {},
   "outputs": [],
   "source": [
    "totalPassingPercent = completeSchoolData[(completeSchoolData[\"math_score\"]>=70)&(completeSchoolData[\"reading_score\"]>=70)]"
   ]
  },
  {
   "cell_type": "code",
   "execution_count": 19,
   "metadata": {},
   "outputs": [
    {
     "data": {
      "text/plain": [
       "25528"
      ]
     },
     "execution_count": 19,
     "metadata": {},
     "output_type": "execute_result"
    }
   ],
   "source": [
    "totalPassingPercent[\"student_name\"].count()"
   ]
  },
  {
   "cell_type": "code",
   "execution_count": 20,
   "metadata": {},
   "outputs": [],
   "source": [
    "totalPassingCount=totalPassingPercent[\"student_name\"].count()"
   ]
  },
  {
   "cell_type": "code",
   "execution_count": 21,
   "metadata": {},
   "outputs": [],
   "source": [
    "totalPercentage = totalPassingPercent[\"student_name\"].count()/float(studentCount)*100"
   ]
  },
  {
   "cell_type": "code",
   "execution_count": 58,
   "metadata": {},
   "outputs": [
    {
     "data": {
      "text/html": [
       "<div>\n",
       "<style scoped>\n",
       "    .dataframe tbody tr th:only-of-type {\n",
       "        vertical-align: middle;\n",
       "    }\n",
       "\n",
       "    .dataframe tbody tr th {\n",
       "        vertical-align: top;\n",
       "    }\n",
       "\n",
       "    .dataframe thead th {\n",
       "        text-align: right;\n",
       "    }\n",
       "</style>\n",
       "<table border=\"1\" class=\"dataframe\">\n",
       "  <thead>\n",
       "    <tr style=\"text-align: right;\">\n",
       "      <th></th>\n",
       "      <th>Total Schools</th>\n",
       "      <th>Total Students</th>\n",
       "      <th>Total Budget</th>\n",
       "      <th>Average Reading Score</th>\n",
       "      <th>Average Math Score</th>\n",
       "      <th>%Passing Reading</th>\n",
       "      <th>%Passing Math</th>\n",
       "      <th>OverallPassing%</th>\n",
       "    </tr>\n",
       "  </thead>\n",
       "  <tbody>\n",
       "    <tr>\n",
       "      <td>0</td>\n",
       "      <td>15</td>\n",
       "      <td>39170</td>\n",
       "      <td>24649428</td>\n",
       "      <td>81.87784</td>\n",
       "      <td>78.985371</td>\n",
       "      <td>85.805463</td>\n",
       "      <td>74.980853</td>\n",
       "      <td>65.172326</td>\n",
       "    </tr>\n",
       "  </tbody>\n",
       "</table>\n",
       "</div>"
      ],
      "text/plain": [
       "   Total Schools  Total Students  Total Budget  Average Reading Score  \\\n",
       "0             15           39170      24649428               81.87784   \n",
       "\n",
       "   Average Math Score  %Passing Reading  %Passing Math  OverallPassing%  \n",
       "0           78.985371         85.805463      74.980853        65.172326  "
      ]
     },
     "execution_count": 58,
     "metadata": {},
     "output_type": "execute_result"
    }
   ],
   "source": [
    "districtSummary = pd.DataFrame([{\"Total Schools\":schoolCount,\"Total Students\":studentCount,\"Total Budget\":totalBudget,\n",
    "                                \"Average Reading Score\":averageReadingScore,\"Average Math Score\":averageMathScore,\n",
    "                                 \"%Passing Reading\":passingReading,\"%Passing Math\":passingMath,\n",
    "                                \"OverallPassing%\":totalPercentage}])"
   ]
  },
  {
   "cell_type": "code",
   "execution_count": 23,
   "metadata": {},
   "outputs": [],
   "source": [
    "def passingMathPercent(passingStudents,totalStudents):\n",
    "    return passingStudents/float(totalStudents)*100"
   ]
  },
  {
   "cell_type": "code",
   "execution_count": 24,
   "metadata": {},
   "outputs": [
    {
     "data": {
      "text/plain": [
       "74.9808526933878"
      ]
     },
     "execution_count": 24,
     "metadata": {},
     "output_type": "execute_result"
    }
   ],
   "source": [
    "passingMathCount = 29370\n",
    "totalStudentCount = 39170\n",
    "passingMathPercent(passingMathCount,totalStudentCount)"
   ]
  },
  {
   "cell_type": "code",
   "execution_count": 25,
   "metadata": {},
   "outputs": [],
   "source": [
    "districtSummary[\"Total Students\"]=districtSummary[\"Total Students\"].map(\"{:,}\".format)"
   ]
  },
  {
   "cell_type": "code",
   "execution_count": 26,
   "metadata": {},
   "outputs": [],
   "source": [
    "districtSummary[\"Total Budget\"] = districtSummary[\"Total Budget\"].map(\"${:,.2f}\".format)\n"
   ]
  },
  {
   "cell_type": "code",
   "execution_count": 27,
   "metadata": {},
   "outputs": [],
   "source": [
    "districtSummary[\"Average Reading Score\"] = districtSummary[\"Average Reading Score\"].map(\"{:,.1f}\".format)\n",
    "districtSummary[\"Average Math Score\"] = districtSummary[\"Average Math Score\"].map(\"{:,.1f}\".format)\n",
    "districtSummary[\"%Passing Math\"] = districtSummary[\"%Passing Math\"].map(\"%{:,.0f}\".format)\n",
    "districtSummary[\"%Passing Reading\"] = districtSummary[\"%Passing Reading\"].map(\"%{:,.0f}\".format)\n",
    "districtSummary[\"OverallPassing%\"] = districtSummary[\"OverallPassing%\"].map(\"%{:,.0f}\".format)"
   ]
  },
  {
   "cell_type": "code",
   "execution_count": 28,
   "metadata": {},
   "outputs": [],
   "source": [
    "newColumnOrder = [\"Total Schools\",\"Total Students\",\"Total Budget\",\"Average Math Score\",\"%Passing Reading\",\"%Passing Math\",\"OverallPassing%\"]\n",
    "districtSummary = districtSummary[newColumnOrder]"
   ]
  },
  {
   "cell_type": "code",
   "execution_count": 29,
   "metadata": {},
   "outputs": [],
   "source": [
    "perSchoolTypes = schoolDataDF.set_index([\"school_name\"])[\"type\"]"
   ]
  },
  {
   "cell_type": "code",
   "execution_count": 30,
   "metadata": {},
   "outputs": [],
   "source": [
    "df = pd.DataFrame(perSchoolTypes)"
   ]
  },
  {
   "cell_type": "code",
   "execution_count": 31,
   "metadata": {},
   "outputs": [],
   "source": [
    "perSchoolCount = completeSchoolData[\"school_name\"].value_counts()"
   ]
  },
  {
   "cell_type": "code",
   "execution_count": 32,
   "metadata": {},
   "outputs": [],
   "source": [
    "perSchoolBudget = schoolDataDF.set_index([\"school_name\"])[\"budget\"]"
   ]
  },
  {
   "cell_type": "code",
   "execution_count": 33,
   "metadata": {},
   "outputs": [],
   "source": [
    "perSchoolCapita = perSchoolBudget/perSchoolCount"
   ]
  },
  {
   "cell_type": "code",
   "execution_count": 34,
   "metadata": {},
   "outputs": [],
   "source": [
    "studentSchoolMath = studentDataDF.set_index([\"school_name\"])[\"math_score\"]"
   ]
  },
  {
   "cell_type": "code",
   "execution_count": 35,
   "metadata": {},
   "outputs": [],
   "source": [
    "perSchoolPassingMath= completeSchoolData[(completeSchoolData[\"math_score\"]>=70)]\n",
    "perSchoolPassingReading = completeSchoolData[(completeSchoolData[\"reading_score\"]>=70)]"
   ]
  },
  {
   "cell_type": "code",
   "execution_count": 36,
   "metadata": {},
   "outputs": [],
   "source": [
    "perSchoolPassingMath = perSchoolPassingMath.groupby([\"school_name\"]).count()[\"student_name\"]\n",
    "perSchoolPassingReading = perSchoolPassingReading.groupby([\"school_name\"]).count()[\"student_name\"]"
   ]
  },
  {
   "cell_type": "code",
   "execution_count": 37,
   "metadata": {},
   "outputs": [],
   "source": [
    "percentageMath = perSchoolPassingMath/perSchoolCount*100\n",
    "percentageEnglish = perSchoolPassingReading/perSchoolCount*100\n"
   ]
  },
  {
   "cell_type": "code",
   "execution_count": 38,
   "metadata": {},
   "outputs": [],
   "source": [
    "perPassingMathReading = completeSchoolData[(completeSchoolData[\"math_score\"]>=70)&(completeSchoolData[\"reading_score\"]>=70)]\n"
   ]
  },
  {
   "cell_type": "code",
   "execution_count": 39,
   "metadata": {},
   "outputs": [],
   "source": [
    "perPassingMathReading = perPassingMathReading.groupby([\"school_name\"]).count()[\"student_name\"]\n"
   ]
  },
  {
   "cell_type": "code",
   "execution_count": 40,
   "metadata": {},
   "outputs": [],
   "source": [
    "perOverallPassingPercentage =perPassingMathReading/perSchoolCount*100\n"
   ]
  },
  {
   "cell_type": "code",
   "execution_count": 41,
   "metadata": {},
   "outputs": [],
   "source": [
    "perSchoolSummary = pd.DataFrame({\"SchoolType\":perSchoolTypes,\"Total Students\": perSchoolCount,\n",
    "                                  \"Total School Budget\": perSchoolBudget,\"Per Student Budget\": perSchoolCapita,\n",
    "                                 \"Average Math Score\":averageMathScore,\"Average Reading Score\":averageReadingScore\n",
    "                                 ,\"% Passing Math\":percentageMath,\"% Passing Reading\":percentageEnglish,\n",
    "                                  \"% Overall Passing\":perOverallPassingPercentage})"
   ]
  },
  {
   "cell_type": "code",
   "execution_count": 42,
   "metadata": {},
   "outputs": [],
   "source": [
    "perSchoolSummary[\"Total School Budget\"] = perSchoolSummary[\"Total School Budget\"].map(\"${:,.2f}\".format)\n",
    "perSchoolSummary[\"Per Student Budget\"] = perSchoolSummary[\"Per Student Budget\"] = perSchoolSummary[\"Per Student Budget\"].map(\"${:,.2f}\".format)\n"
   ]
  },
  {
   "cell_type": "code",
   "execution_count": 43,
   "metadata": {},
   "outputs": [],
   "source": [
    "topSchools = perSchoolSummary.sort_values([\"% Overall Passing\"], ascending = False)"
   ]
  },
  {
   "cell_type": "code",
   "execution_count": 44,
   "metadata": {},
   "outputs": [],
   "source": [
    "lowestSchools = perSchoolSummary.sort_values([\"% Overall Passing\"], ascending = True)"
   ]
  },
  {
   "cell_type": "code",
   "execution_count": 45,
   "metadata": {},
   "outputs": [],
   "source": [
    "ninthGraders = completeSchoolData[(completeSchoolData[\"grade\"]==\"9th\")]\n",
    "tenthGraders = completeSchoolData[(completeSchoolData[\"grade\"]==\"10th\")]\n",
    "eleventhGraders = completeSchoolData[(completeSchoolData[\"grade\"]==\"11th\")]\n",
    "twelfthGraders = completeSchoolData[(completeSchoolData[\"grade\"]==\"12th\")]"
   ]
  },
  {
   "cell_type": "code",
   "execution_count": 46,
   "metadata": {},
   "outputs": [],
   "source": [
    "ninthGradeMathScores=ninthGraders.groupby([\"school_name\"]).mean()[\"math_score\"]\n",
    "tenthGradeMathScores=tenthGraders.groupby([\"school_name\"]).mean()[\"math_score\"]\n",
    "eleventhGradeMathScores=eleventhGraders.groupby([\"school_name\"]).mean()[\"math_score\"]\n",
    "twelfthGradeMathScores=twelfthGraders.groupby([\"school_name\"]).mean()[\"math_score\"]"
   ]
  },
  {
   "cell_type": "code",
   "execution_count": 47,
   "metadata": {},
   "outputs": [],
   "source": [
    "ninthGradeReadingScores = ninthGraders.groupby([\"school_name\"]).mean()[\"reading_score\"]\n",
    "tenthGradeReadingScores=tenthGraders.groupby([\"school_name\"]).mean()[\"reading_score\"]\n",
    "eleventhGradeReadingScores = eleventhGraders.groupby([\"school_name\"]).mean()[\"reading_score\"]\n",
    "twelfthGradeReadingScores = twelfthGraders.groupby([\"school_name\"]).mean()[\"reading_score\"]"
   ]
  },
  {
   "cell_type": "code",
   "execution_count": 48,
   "metadata": {},
   "outputs": [],
   "source": [
    "mathScoresByGrade = pd.DataFrame({\"9th\":ninthGradeMathScores,\n",
    "                                 \"10th\":tenthGradeMathScores,\n",
    "                                 \"11th\":eleventhGradeMathScores,\n",
    "                                 \"12th\":twelfthGradeMathScores})\n"
   ]
  },
  {
   "cell_type": "code",
   "execution_count": 49,
   "metadata": {},
   "outputs": [],
   "source": [
    "readingScoresByGrade = pd.DataFrame({\"9th\":ninthGradeReadingScores,\n",
    "                                    \"10th\":tenthGradeReadingScores,\n",
    "                                    \"11th\":eleventhGradeReadingScores,\n",
    "                                    \"12th\":twelfthGradeReadingScores})"
   ]
  },
  {
   "cell_type": "code",
   "execution_count": 50,
   "metadata": {},
   "outputs": [
    {
     "data": {
      "text/html": [
       "<div>\n",
       "<style scoped>\n",
       "    .dataframe tbody tr th:only-of-type {\n",
       "        vertical-align: middle;\n",
       "    }\n",
       "\n",
       "    .dataframe tbody tr th {\n",
       "        vertical-align: top;\n",
       "    }\n",
       "\n",
       "    .dataframe thead th {\n",
       "        text-align: right;\n",
       "    }\n",
       "</style>\n",
       "<table border=\"1\" class=\"dataframe\">\n",
       "  <thead>\n",
       "    <tr style=\"text-align: right;\">\n",
       "      <th></th>\n",
       "      <th>9th</th>\n",
       "      <th>10th</th>\n",
       "      <th>11th</th>\n",
       "      <th>12th</th>\n",
       "    </tr>\n",
       "  </thead>\n",
       "  <tbody>\n",
       "    <tr>\n",
       "      <td>Bailey High School</td>\n",
       "      <td>77.1</td>\n",
       "      <td>77.0</td>\n",
       "      <td>77.5</td>\n",
       "      <td>76.5</td>\n",
       "    </tr>\n",
       "    <tr>\n",
       "      <td>Cabrera High School</td>\n",
       "      <td>83.1</td>\n",
       "      <td>83.2</td>\n",
       "      <td>82.8</td>\n",
       "      <td>83.3</td>\n",
       "    </tr>\n",
       "    <tr>\n",
       "      <td>Figueroa High School</td>\n",
       "      <td>76.4</td>\n",
       "      <td>76.5</td>\n",
       "      <td>76.9</td>\n",
       "      <td>77.2</td>\n",
       "    </tr>\n",
       "    <tr>\n",
       "      <td>Ford High School</td>\n",
       "      <td>77.4</td>\n",
       "      <td>77.7</td>\n",
       "      <td>76.9</td>\n",
       "      <td>76.2</td>\n",
       "    </tr>\n",
       "    <tr>\n",
       "      <td>Griffin High School</td>\n",
       "      <td>82.0</td>\n",
       "      <td>84.2</td>\n",
       "      <td>83.8</td>\n",
       "      <td>83.4</td>\n",
       "    </tr>\n",
       "  </tbody>\n",
       "</table>\n",
       "</div>"
      ],
      "text/plain": [
       "                       9th  10th  11th  12th\n",
       "Bailey High School    77.1  77.0  77.5  76.5\n",
       "Cabrera High School   83.1  83.2  82.8  83.3\n",
       "Figueroa High School  76.4  76.5  76.9  77.2\n",
       "Ford High School      77.4  77.7  76.9  76.2\n",
       "Griffin High School   82.0  84.2  83.8  83.4"
      ]
     },
     "execution_count": 50,
     "metadata": {},
     "output_type": "execute_result"
    }
   ],
   "source": [
    "mathScoresByGrade[\"9th\"] = mathScoresByGrade[\"9th\"].map(\"{:,.1f}\".format)\n",
    "mathScoresByGrade[\"10th\"] = mathScoresByGrade[\"10th\"].map(\"{:,.1f}\".format)\n",
    "mathScoresByGrade[\"11th\"] = mathScoresByGrade[\"11th\"].map(\"{:,.1f}\".format)\n",
    "mathScoresByGrade[\"12th\"] = mathScoresByGrade[\"12th\"].map(\"{:,.1f}\".format)\n",
    "\n",
    "mathScoresByGrade.index.name = None\n",
    "mathScoresByGrade.head()"
   ]
  },
  {
   "cell_type": "code",
   "execution_count": 51,
   "metadata": {},
   "outputs": [
    {
     "data": {
      "text/html": [
       "<div>\n",
       "<style scoped>\n",
       "    .dataframe tbody tr th:only-of-type {\n",
       "        vertical-align: middle;\n",
       "    }\n",
       "\n",
       "    .dataframe tbody tr th {\n",
       "        vertical-align: top;\n",
       "    }\n",
       "\n",
       "    .dataframe thead th {\n",
       "        text-align: right;\n",
       "    }\n",
       "</style>\n",
       "<table border=\"1\" class=\"dataframe\">\n",
       "  <thead>\n",
       "    <tr style=\"text-align: right;\">\n",
       "      <th></th>\n",
       "      <th>9th</th>\n",
       "      <th>10th</th>\n",
       "      <th>11th</th>\n",
       "      <th>12th</th>\n",
       "    </tr>\n",
       "  </thead>\n",
       "  <tbody>\n",
       "    <tr>\n",
       "      <td>Bailey High School</td>\n",
       "      <td>81.3</td>\n",
       "      <td>80.9</td>\n",
       "      <td>80.9</td>\n",
       "      <td>80.9</td>\n",
       "    </tr>\n",
       "    <tr>\n",
       "      <td>Cabrera High School</td>\n",
       "      <td>83.7</td>\n",
       "      <td>84.3</td>\n",
       "      <td>83.8</td>\n",
       "      <td>84.3</td>\n",
       "    </tr>\n",
       "    <tr>\n",
       "      <td>Figueroa High School</td>\n",
       "      <td>81.2</td>\n",
       "      <td>81.4</td>\n",
       "      <td>80.6</td>\n",
       "      <td>81.4</td>\n",
       "    </tr>\n",
       "    <tr>\n",
       "      <td>Ford High School</td>\n",
       "      <td>80.6</td>\n",
       "      <td>81.3</td>\n",
       "      <td>80.4</td>\n",
       "      <td>80.7</td>\n",
       "    </tr>\n",
       "    <tr>\n",
       "      <td>Griffin High School</td>\n",
       "      <td>83.4</td>\n",
       "      <td>83.7</td>\n",
       "      <td>84.3</td>\n",
       "      <td>84.0</td>\n",
       "    </tr>\n",
       "  </tbody>\n",
       "</table>\n",
       "</div>"
      ],
      "text/plain": [
       "                       9th  10th  11th  12th\n",
       "Bailey High School    81.3  80.9  80.9  80.9\n",
       "Cabrera High School   83.7  84.3  83.8  84.3\n",
       "Figueroa High School  81.2  81.4  80.6  81.4\n",
       "Ford High School      80.6  81.3  80.4  80.7\n",
       "Griffin High School   83.4  83.7  84.3  84.0"
      ]
     },
     "execution_count": 51,
     "metadata": {},
     "output_type": "execute_result"
    }
   ],
   "source": [
    "readingScoresByGrade[\"9th\"]=readingScoresByGrade[\"9th\"].map(\"{:,.1f}\".format)\n",
    "readingScoresByGrade[\"10th\"]=readingScoresByGrade[\"10th\"].map(\"{:,.1f}\".format)\n",
    "readingScoresByGrade[\"11th\"]=readingScoresByGrade[\"11th\"].map(\"{:,.1f}\".format)\n",
    "readingScoresByGrade[\"12th\"]=readingScoresByGrade[\"12th\"].map(\"{:,.1f}\".format)\n",
    "readingScoresByGrade.index.name = None\n",
    "readingScoresByGrade.head()"
   ]
  },
  {
   "cell_type": "code",
   "execution_count": 52,
   "metadata": {},
   "outputs": [
    {
     "data": {
      "text/plain": [
       "<$584       4\n",
       "$585-629    4\n",
       "$630-644    4\n",
       "$645-675    3\n",
       "dtype: int64"
      ]
     },
     "execution_count": 52,
     "metadata": {},
     "output_type": "execute_result"
    }
   ],
   "source": [
    "spendingBins = [0,585,630,645,675]\n",
    "groupNames = [\"<$584\", \"$585-629\", \"$630-644\", \"$645-675\"]\n",
    "perSchoolCapita.groupby(pd.cut(perSchoolCapita,spendingBins,labels=groupNames)).count()"
   ]
  },
  {
   "cell_type": "code",
   "execution_count": 53,
   "metadata": {},
   "outputs": [
    {
     "data": {
      "text/html": [
       "<div>\n",
       "<style scoped>\n",
       "    .dataframe tbody tr th:only-of-type {\n",
       "        vertical-align: middle;\n",
       "    }\n",
       "\n",
       "    .dataframe tbody tr th {\n",
       "        vertical-align: top;\n",
       "    }\n",
       "\n",
       "    .dataframe thead th {\n",
       "        text-align: right;\n",
       "    }\n",
       "</style>\n",
       "<table border=\"1\" class=\"dataframe\">\n",
       "  <thead>\n",
       "    <tr style=\"text-align: right;\">\n",
       "      <th></th>\n",
       "      <th>SchoolType</th>\n",
       "      <th>Total Students</th>\n",
       "      <th>Total School Budget</th>\n",
       "      <th>Per Student Budget</th>\n",
       "      <th>Average Math Score</th>\n",
       "      <th>Average Reading Score</th>\n",
       "      <th>% Passing Math</th>\n",
       "      <th>% Passing Reading</th>\n",
       "      <th>% Overall Passing</th>\n",
       "      <th>Spending Ranges(Per Student)</th>\n",
       "    </tr>\n",
       "  </thead>\n",
       "  <tbody>\n",
       "    <tr>\n",
       "      <td>Bailey High School</td>\n",
       "      <td>District</td>\n",
       "      <td>4976</td>\n",
       "      <td>$3,124,928.00</td>\n",
       "      <td>$628.00</td>\n",
       "      <td>78.985371</td>\n",
       "      <td>81.87784</td>\n",
       "      <td>66.680064</td>\n",
       "      <td>81.933280</td>\n",
       "      <td>54.642283</td>\n",
       "      <td>$585-629</td>\n",
       "    </tr>\n",
       "    <tr>\n",
       "      <td>Cabrera High School</td>\n",
       "      <td>Charter</td>\n",
       "      <td>1858</td>\n",
       "      <td>$1,081,356.00</td>\n",
       "      <td>$582.00</td>\n",
       "      <td>78.985371</td>\n",
       "      <td>81.87784</td>\n",
       "      <td>94.133477</td>\n",
       "      <td>97.039828</td>\n",
       "      <td>91.334769</td>\n",
       "      <td>&lt;$584</td>\n",
       "    </tr>\n",
       "    <tr>\n",
       "      <td>Figueroa High School</td>\n",
       "      <td>District</td>\n",
       "      <td>2949</td>\n",
       "      <td>$1,884,411.00</td>\n",
       "      <td>$639.00</td>\n",
       "      <td>78.985371</td>\n",
       "      <td>81.87784</td>\n",
       "      <td>65.988471</td>\n",
       "      <td>80.739234</td>\n",
       "      <td>53.204476</td>\n",
       "      <td>$630-644</td>\n",
       "    </tr>\n",
       "    <tr>\n",
       "      <td>Ford High School</td>\n",
       "      <td>District</td>\n",
       "      <td>2739</td>\n",
       "      <td>$1,763,916.00</td>\n",
       "      <td>$644.00</td>\n",
       "      <td>78.985371</td>\n",
       "      <td>81.87784</td>\n",
       "      <td>68.309602</td>\n",
       "      <td>79.299014</td>\n",
       "      <td>54.289887</td>\n",
       "      <td>$630-644</td>\n",
       "    </tr>\n",
       "    <tr>\n",
       "      <td>Griffin High School</td>\n",
       "      <td>Charter</td>\n",
       "      <td>1468</td>\n",
       "      <td>$917,500.00</td>\n",
       "      <td>$625.00</td>\n",
       "      <td>78.985371</td>\n",
       "      <td>81.87784</td>\n",
       "      <td>93.392371</td>\n",
       "      <td>97.138965</td>\n",
       "      <td>90.599455</td>\n",
       "      <td>$585-629</td>\n",
       "    </tr>\n",
       "  </tbody>\n",
       "</table>\n",
       "</div>"
      ],
      "text/plain": [
       "                     SchoolType  Total Students Total School Budget  \\\n",
       "Bailey High School     District            4976       $3,124,928.00   \n",
       "Cabrera High School     Charter            1858       $1,081,356.00   \n",
       "Figueroa High School   District            2949       $1,884,411.00   \n",
       "Ford High School       District            2739       $1,763,916.00   \n",
       "Griffin High School     Charter            1468         $917,500.00   \n",
       "\n",
       "                     Per Student Budget  Average Math Score  \\\n",
       "Bailey High School              $628.00           78.985371   \n",
       "Cabrera High School             $582.00           78.985371   \n",
       "Figueroa High School            $639.00           78.985371   \n",
       "Ford High School                $644.00           78.985371   \n",
       "Griffin High School             $625.00           78.985371   \n",
       "\n",
       "                      Average Reading Score  % Passing Math  \\\n",
       "Bailey High School                 81.87784       66.680064   \n",
       "Cabrera High School                81.87784       94.133477   \n",
       "Figueroa High School               81.87784       65.988471   \n",
       "Ford High School                   81.87784       68.309602   \n",
       "Griffin High School                81.87784       93.392371   \n",
       "\n",
       "                      % Passing Reading  % Overall Passing  \\\n",
       "Bailey High School            81.933280          54.642283   \n",
       "Cabrera High School           97.039828          91.334769   \n",
       "Figueroa High School          80.739234          53.204476   \n",
       "Ford High School              79.299014          54.289887   \n",
       "Griffin High School           97.138965          90.599455   \n",
       "\n",
       "                     Spending Ranges(Per Student)  \n",
       "Bailey High School                       $585-629  \n",
       "Cabrera High School                         <$584  \n",
       "Figueroa High School                     $630-644  \n",
       "Ford High School                         $630-644  \n",
       "Griffin High School                      $585-629  "
      ]
     },
     "execution_count": 53,
     "metadata": {},
     "output_type": "execute_result"
    }
   ],
   "source": [
    "perSchoolSummary[\"Spending Ranges(Per Student)\"]= pd.cut(perSchoolCapita,spendingBins,labels = groupNames)\n",
    "perSchoolSummary.head()"
   ]
  },
  {
   "cell_type": "code",
   "execution_count": 54,
   "metadata": {},
   "outputs": [],
   "source": [
    "spendingMathScores = perSchoolSummary.groupby([\"Spending Ranges(Per Student)\"]).mean()[\"Average Math Score\"]\n",
    "spendingReadingScores = perSchoolSummary.groupby([\"Spending Ranges(Per Student)\"]).mean()[\"Average Reading Score\"]\n",
    "spendingPassingMath = perSchoolSummary.groupby([\"Spending Ranges(Per Student)\"]).mean()[\"% Passing Math\"]\n",
    "spendingPassingReading = perSchoolSummary.groupby([\"Spending Ranges(Per Student)\"]).mean()[\"% Passing Reading\"]\n",
    "overallPassingSpending = perSchoolSummary.groupby([\"Spending Ranges(Per Student)\"]).mean()[\"% Overall Passing\"]"
   ]
  },
  {
   "cell_type": "code",
   "execution_count": 55,
   "metadata": {},
   "outputs": [
    {
     "data": {
      "text/html": [
       "<div>\n",
       "<style scoped>\n",
       "    .dataframe tbody tr th:only-of-type {\n",
       "        vertical-align: middle;\n",
       "    }\n",
       "\n",
       "    .dataframe tbody tr th {\n",
       "        vertical-align: top;\n",
       "    }\n",
       "\n",
       "    .dataframe thead th {\n",
       "        text-align: right;\n",
       "    }\n",
       "</style>\n",
       "<table border=\"1\" class=\"dataframe\">\n",
       "  <thead>\n",
       "    <tr style=\"text-align: right;\">\n",
       "      <th></th>\n",
       "      <th>Average Math Score</th>\n",
       "      <th>Average Reading Score</th>\n",
       "      <th>% Passing Math</th>\n",
       "      <th>% Passing Reading</th>\n",
       "      <th>% Overall Passing</th>\n",
       "    </tr>\n",
       "    <tr>\n",
       "      <th>Spending Ranges(Per Student)</th>\n",
       "      <th></th>\n",
       "      <th></th>\n",
       "      <th></th>\n",
       "      <th></th>\n",
       "      <th></th>\n",
       "    </tr>\n",
       "  </thead>\n",
       "  <tbody>\n",
       "    <tr>\n",
       "      <td>&lt;$584</td>\n",
       "      <td>78.985371</td>\n",
       "      <td>81.87784</td>\n",
       "      <td>93.460096</td>\n",
       "      <td>96.610877</td>\n",
       "      <td>90.369459</td>\n",
       "    </tr>\n",
       "    <tr>\n",
       "      <td>$585-629</td>\n",
       "      <td>78.985371</td>\n",
       "      <td>81.87784</td>\n",
       "      <td>87.133538</td>\n",
       "      <td>92.718205</td>\n",
       "      <td>81.418596</td>\n",
       "    </tr>\n",
       "    <tr>\n",
       "      <td>$630-644</td>\n",
       "      <td>78.985371</td>\n",
       "      <td>81.87784</td>\n",
       "      <td>73.484209</td>\n",
       "      <td>84.391793</td>\n",
       "      <td>62.857656</td>\n",
       "    </tr>\n",
       "    <tr>\n",
       "      <td>$645-675</td>\n",
       "      <td>78.985371</td>\n",
       "      <td>81.87784</td>\n",
       "      <td>66.164813</td>\n",
       "      <td>81.133951</td>\n",
       "      <td>53.526855</td>\n",
       "    </tr>\n",
       "  </tbody>\n",
       "</table>\n",
       "</div>"
      ],
      "text/plain": [
       "                              Average Math Score  Average Reading Score  \\\n",
       "Spending Ranges(Per Student)                                              \n",
       "<$584                                  78.985371               81.87784   \n",
       "$585-629                               78.985371               81.87784   \n",
       "$630-644                               78.985371               81.87784   \n",
       "$645-675                               78.985371               81.87784   \n",
       "\n",
       "                              % Passing Math  % Passing Reading  \\\n",
       "Spending Ranges(Per Student)                                      \n",
       "<$584                              93.460096          96.610877   \n",
       "$585-629                           87.133538          92.718205   \n",
       "$630-644                           73.484209          84.391793   \n",
       "$645-675                           66.164813          81.133951   \n",
       "\n",
       "                              % Overall Passing  \n",
       "Spending Ranges(Per Student)                     \n",
       "<$584                                 90.369459  \n",
       "$585-629                              81.418596  \n",
       "$630-644                              62.857656  \n",
       "$645-675                              53.526855  "
      ]
     },
     "execution_count": 55,
     "metadata": {},
     "output_type": "execute_result"
    }
   ],
   "source": [
    "spendingSummary = pd.DataFrame({\n",
    "    \"Average Math Score\" : spendingMathScores,\n",
    "    \"Average Reading Score\": spendingReadingScores,\n",
    "    \"% Passing Math\": spendingPassingMath,\n",
    "    \"% Passing Reading\": spendingPassingReading,\n",
    "    \"% Overall Passing\": overallPassingSpending\n",
    "})\n",
    "spendingSummary"
   ]
  },
  {
   "cell_type": "code",
   "execution_count": 56,
   "metadata": {},
   "outputs": [
    {
     "data": {
      "text/html": [
       "<div>\n",
       "<style scoped>\n",
       "    .dataframe tbody tr th:only-of-type {\n",
       "        vertical-align: middle;\n",
       "    }\n",
       "\n",
       "    .dataframe tbody tr th {\n",
       "        vertical-align: top;\n",
       "    }\n",
       "\n",
       "    .dataframe thead th {\n",
       "        text-align: right;\n",
       "    }\n",
       "</style>\n",
       "<table border=\"1\" class=\"dataframe\">\n",
       "  <thead>\n",
       "    <tr style=\"text-align: right;\">\n",
       "      <th></th>\n",
       "      <th>Average Math Score</th>\n",
       "      <th>Average Reading Score</th>\n",
       "      <th>% Passing Math</th>\n",
       "      <th>% Passing Reading</th>\n",
       "      <th>% Overall Passing</th>\n",
       "    </tr>\n",
       "    <tr>\n",
       "      <th>Spending Ranges(Per Student)</th>\n",
       "      <th></th>\n",
       "      <th></th>\n",
       "      <th></th>\n",
       "      <th></th>\n",
       "      <th></th>\n",
       "    </tr>\n",
       "  </thead>\n",
       "  <tbody>\n",
       "    <tr>\n",
       "      <td>&lt;$584</td>\n",
       "      <td>79.0</td>\n",
       "      <td>81.9</td>\n",
       "      <td>93.5</td>\n",
       "      <td>97</td>\n",
       "      <td>90</td>\n",
       "    </tr>\n",
       "    <tr>\n",
       "      <td>$585-629</td>\n",
       "      <td>79.0</td>\n",
       "      <td>81.9</td>\n",
       "      <td>87.1</td>\n",
       "      <td>93</td>\n",
       "      <td>81</td>\n",
       "    </tr>\n",
       "    <tr>\n",
       "      <td>$630-644</td>\n",
       "      <td>79.0</td>\n",
       "      <td>81.9</td>\n",
       "      <td>73.5</td>\n",
       "      <td>84</td>\n",
       "      <td>63</td>\n",
       "    </tr>\n",
       "    <tr>\n",
       "      <td>$645-675</td>\n",
       "      <td>79.0</td>\n",
       "      <td>81.9</td>\n",
       "      <td>66.2</td>\n",
       "      <td>81</td>\n",
       "      <td>54</td>\n",
       "    </tr>\n",
       "  </tbody>\n",
       "</table>\n",
       "</div>"
      ],
      "text/plain": [
       "                             Average Math Score Average Reading Score  \\\n",
       "Spending Ranges(Per Student)                                            \n",
       "<$584                                      79.0                  81.9   \n",
       "$585-629                                   79.0                  81.9   \n",
       "$630-644                                   79.0                  81.9   \n",
       "$645-675                                   79.0                  81.9   \n",
       "\n",
       "                             % Passing Math % Passing Reading  \\\n",
       "Spending Ranges(Per Student)                                    \n",
       "<$584                                  93.5                97   \n",
       "$585-629                               87.1                93   \n",
       "$630-644                               73.5                84   \n",
       "$645-675                               66.2                81   \n",
       "\n",
       "                             % Overall Passing  \n",
       "Spending Ranges(Per Student)                    \n",
       "<$584                                       90  \n",
       "$585-629                                    81  \n",
       "$630-644                                    63  \n",
       "$645-675                                    54  "
      ]
     },
     "execution_count": 56,
     "metadata": {},
     "output_type": "execute_result"
    }
   ],
   "source": [
    "spendingSummary[\"Average Math Score\"] = spendingSummary[\"Average Math Score\"].map(\"{:.1f}\".format)\n",
    "spendingSummary[\"Average Reading Score\"] = spendingSummary[\"Average Reading Score\"].map(\"{:.1f}\".format)\n",
    "spendingSummary[\"% Passing Math\"] = spendingSummary[\"% Passing Math\"].map(\"{:,.1f}\".format)\n",
    "spendingSummary[\"% Passing Reading\"] = spendingSummary[\"% Passing Reading\"].map(\"{:,.0f}\".format)\n",
    "spendingSummary[\"% Overall Passing\"] = spendingSummary[\"% Overall Passing\"].map(\"{:,.0f}\".format)\n",
    "spendingSummary"
   ]
  },
  {
   "cell_type": "code",
   "execution_count": null,
   "metadata": {},
   "outputs": [],
   "source": []
  }
 ],
 "metadata": {
  "kernelspec": {
   "display_name": "Python 3",
   "language": "python",
   "name": "python3"
  },
  "language_info": {
   "codemirror_mode": {
    "name": "ipython",
    "version": 3
   },
   "file_extension": ".py",
   "mimetype": "text/x-python",
   "name": "python",
   "nbconvert_exporter": "python",
   "pygments_lexer": "ipython3",
   "version": "3.7.4"
  }
 },
 "nbformat": 4,
 "nbformat_minor": 2
}
